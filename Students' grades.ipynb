{
 "cells": [
  {
   "cell_type": "code",
   "execution_count": 1,
   "id": "105fc784-a579-4f9c-8f45-f154dbb98b31",
   "metadata": {},
   "outputs": [
    {
     "name": "stdin",
     "output_type": "stream",
     "text": [
      "Enter subject name (or Done): Maths\n",
      "Please enter your score for Maths: 56\n"
     ]
    },
    {
     "name": "stdout",
     "output_type": "stream",
     "text": [
      "D\n"
     ]
    },
    {
     "name": "stdin",
     "output_type": "stream",
     "text": [
      "Enter subject name (or Done): Basic science\n",
      "Please enter your score for Basic science: 33\n"
     ]
    },
    {
     "name": "stdout",
     "output_type": "stream",
     "text": [
      "F\n"
     ]
    },
    {
     "name": "stdin",
     "output_type": "stream",
     "text": [
      "Enter subject name (or Done): done\n"
     ]
    },
    {
     "name": "stdout",
     "output_type": "stream",
     "text": [
      "Done. Bye!\n"
     ]
    }
   ],
   "source": [
    "while True:\n",
    "    subject_name = input(\"Enter subject name (or Done):\")\n",
    "    if subject_name.lower() == \"done\":\n",
    "        print(\"Done. Bye!\")\n",
    "        break\n",
    "    try:\n",
    "        score = int(input(f\"Please enter your score for {subject_name}:\"))\n",
    "        if score >100 or score <0:\n",
    "            print(\"Error. Please enter a valid number between 0 and 100\")\n",
    "            continue\n",
    "    except ValueError:\n",
    "        print(\"Error. Please enter a valid number between 0 and 100\")\n",
    "        continue\n",
    "        \n",
    "    if score >= 80:\n",
    "        print(\"A\")\n",
    "    elif score >= 70:\n",
    "        print(\"B\")\n",
    "    elif score >= 60:\n",
    "        print(\"C\")\n",
    "    elif score >= 50:\n",
    "        print(\"D\")\n",
    "    elif score >= 40:\n",
    "        print(\"E\")\n",
    "    else:\n",
    "        print(\"F\")\n",
    "        "
   ]
  },
  {
   "cell_type": "code",
   "execution_count": null,
   "id": "2db30ce1-7655-4491-ac1a-832a66872fc3",
   "metadata": {},
   "outputs": [],
   "source": []
  }
 ],
 "metadata": {
  "kernelspec": {
   "display_name": "Python 3 (ipykernel)",
   "language": "python",
   "name": "python3"
  },
  "language_info": {
   "codemirror_mode": {
    "name": "ipython",
    "version": 3
   },
   "file_extension": ".py",
   "mimetype": "text/x-python",
   "name": "python",
   "nbconvert_exporter": "python",
   "pygments_lexer": "ipython3",
   "version": "3.12.4"
  }
 },
 "nbformat": 4,
 "nbformat_minor": 5
}
